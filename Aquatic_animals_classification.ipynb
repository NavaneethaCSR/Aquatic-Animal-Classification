{
  "nbformat": 4,
  "nbformat_minor": 0,
  "metadata": {
    "colab": {
      "provenance": [],
      "mount_file_id": "1n42SO__fQjz5XEGZWShZzu1QBAlD5Hj9",
      "authorship_tag": "ABX9TyMbXr2G2RAz6ZoJIiKiIaEL",
      "include_colab_link": true
    },
    "kernelspec": {
      "name": "python3",
      "display_name": "Python 3"
    },
    "language_info": {
      "name": "python"
    }
  },
  "cells": [
    {
      "cell_type": "markdown",
      "metadata": {
        "id": "view-in-github",
        "colab_type": "text"
      },
      "source": [
        "<a href=\"https://colab.research.google.com/github/NavaneethaCSR/Aquatic-animal-classification/blob/main/Aquatic_animals_classification.ipynb\" target=\"_parent\"><img src=\"https://colab.research.google.com/assets/colab-badge.svg\" alt=\"Open In Colab\"/></a>"
      ]
    },
    {
      "cell_type": "code",
      "source": [
        "import os\n",
        "import cv2\n",
        "import numpy as np\n",
        "from tensorflow.keras.applications import VGG16\n",
        "from tensorflow.keras.applications.vgg16 import preprocess_input\n",
        "from sklearn.preprocessing import StandardScaler\n",
        "from sklearn.ensemble import VotingClassifier\n",
        "from sklearn.ensemble import RandomForestClassifier\n",
        "from sklearn.svm import SVC\n",
        "from sklearn.metrics import accuracy_score\n",
        "from tensorflow.keras.preprocessing.image import ImageDataGenerator\n",
        "\n",
        "# Function to load images from folder and preprocess for VGG16\n",
        "def load_images_from_folder(root_folder, img_size=(224, 224)):\n",
        "    features = []\n",
        "    labels = []\n",
        "    class_folders = sorted(os.listdir(root_folder))\n",
        "    label_map = {class_name: idx for idx, class_name in enumerate(class_folders)}\n",
        "\n",
        "    for class_folder in class_folders:\n",
        "        class_path = os.path.join(root_folder, class_folder)\n",
        "        if os.path.isdir(class_path):\n",
        "            for filename in os.listdir(class_path):\n",
        "                img_path = os.path.join(class_path, filename)\n",
        "                if os.path.isfile(img_path):\n",
        "                    img = cv2.imread(img_path)\n",
        "                    if img is not None:\n",
        "                        img = cv2.cvtColor(img, cv2.COLOR_BGR2RGB)\n",
        "                        img = cv2.resize(img, img_size)\n",
        "                        img = preprocess_input(img)\n",
        "                        features.append(img)\n",
        "                        labels.append(label_map[class_folder])\n",
        "\n",
        "    return np.array(features), np.array(labels)\n",
        "\n",
        "# Define paths to your training and testing dataset folders\n",
        "train_dataset_folder = '/content/drive/MyDrive/Colab Notebooks/Datasets/Aquarium animal classification/train'\n",
        "test_dataset_folder = '/content/drive/MyDrive/Colab Notebooks/Datasets/Aquarium animal classification/test'\n",
        "\n",
        "# Load the datasets and preprocess for VGG16\n",
        "X_train, y_train = load_images_from_folder(train_dataset_folder)\n",
        "X_test, y_test = load_images_from_folder(test_dataset_folder)\n",
        "\n",
        "# Data Augmentation for Training\n",
        "train_datagen = ImageDataGenerator(\n",
        "    rotation_range=20,\n",
        "    width_shift_range=0.2,\n",
        "    height_shift_range=0.2,\n",
        "    shear_range=0.2,\n",
        "    zoom_range=0.2,\n",
        "    horizontal_flip=True,\n",
        "    fill_mode='nearest'\n",
        ")\n",
        "\n",
        "# Augment training data\n",
        "augmented_images = []\n",
        "augmented_labels = []\n",
        "\n",
        "for i in range(len(X_train)):\n",
        "    img = np.expand_dims(X_train[i], 0)\n",
        "    it = train_datagen.flow(img, batch_size=1)\n",
        "    for _ in range(5):  # Generate 5 augmented images per original image\n",
        "        batch = it.next()\n",
        "        augmented_images.append(batch[0])\n",
        "        augmented_labels.append(y_train[i])\n",
        "\n",
        "X_train_augmented = np.array(augmented_images)\n",
        "y_train_augmented = np.array(augmented_labels)\n",
        "\n",
        "# Use a pre-trained VGG16 model for feature extraction\n",
        "vgg16_model = VGG16(weights='imagenet', include_top=False, input_shape=(224, 224, 3))\n",
        "\n",
        "# Extract features using the pre-trained model\n",
        "X_train_vgg_features = vgg16_model.predict(preprocess_input(X_train_augmented), verbose=1)\n",
        "X_test_vgg_features = vgg16_model.predict(preprocess_input(X_test), verbose=1)\n",
        "\n",
        "# Flatten VGG features\n",
        "X_train_vgg_features = X_train_vgg_features.reshape(X_train_vgg_features.shape[0], -1)\n",
        "X_test_vgg_features = X_test_vgg_features.reshape(X_test_vgg_features.shape[0], -1)\n",
        "\n",
        "# Standard scaling\n",
        "scaler = StandardScaler()\n",
        "X_train_scaled = scaler.fit_transform(X_train_vgg_features)\n",
        "X_test_scaled = scaler.transform(X_test_vgg_features)\n",
        "\n",
        "# Define individual classifiers\n",
        "svc_linear = SVC(kernel='linear', C=1, probability=True)\n",
        "svc_rbf = SVC(kernel='rbf', C=10, gamma=0.01, probability=True)\n",
        "svc_poly = SVC(kernel='poly', degree=3, C=1, probability=True)\n",
        "rf_clf = RandomForestClassifier(n_estimators=100)\n",
        "\n",
        "# Combine classifiers into a voting classifier\n",
        "voting_clf = VotingClassifier(estimators=[\n",
        "    ('svc_linear', svc_linear),\n",
        "    ('svc_rbf', svc_rbf),\n",
        "    ('svc_poly', svc_poly),\n",
        "    ('rf', rf_clf)\n",
        "], voting='soft')\n",
        "\n",
        "# Train the ensemble classifier\n",
        "voting_clf.fit(X_train_scaled, y_train_augmented)\n",
        "\n",
        "# Predicting on the test set\n",
        "y_pred = voting_clf.predict(X_test_scaled)\n",
        "\n",
        "# Calculate accuracy\n",
        "accuracy = accuracy_score(y_test, y_pred)\n",
        "print(f'Accuracy: {accuracy:.2f}')"
      ],
      "metadata": {
        "colab": {
          "base_uri": "https://localhost:8080/"
        },
        "id": "OIWZu92GjNpi",
        "outputId": "f7c7411e-467c-4f15-b298-957275578c92"
      },
      "execution_count": null,
      "outputs": [
        {
          "output_type": "stream",
          "name": "stdout",
          "text": [
            "13/13 [==============================] - 270s 21s/step\n",
            "1/1 [==============================] - 9s 9s/step\n",
            "Accuracy: 0.80\n"
          ]
        }
      ]
    }
  ]
}